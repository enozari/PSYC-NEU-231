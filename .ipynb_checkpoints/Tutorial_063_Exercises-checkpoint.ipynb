{
 "cells": [
  {
   "cell_type": "markdown",
   "metadata": {},
   "source": [
    "# In class exercises for 11.21.2018 (Filtering)"
   ]
  },
  {
   "cell_type": "markdown",
   "metadata": {},
   "source": [
    "## First import data from eeg_data00.npz"
   ]
  },
  {
   "cell_type": "code",
   "execution_count": 1,
   "metadata": {
    "collapsed": true
   },
   "outputs": [],
   "source": [
    "# first import the modules that you'll need. \n",
    "import numpy as np\n",
    "import scipy.io as sio\n",
    "import matplotlib.pyplot as plt\n",
    "\n",
    "# import our sinc filter implementation function...\n",
    "import my_sinc_filt as msf\n",
    "\n",
    "# also define the default font we'll use for figures. \n",
    "fig_font = {'fontname':'Arial', 'size':'20'}"
   ]
  },
  {
   "cell_type": "markdown",
   "metadata": {},
   "source": [
    "## Just like in the first FFT tutorial load eeg_data00.npz so that we have an EEG data set to play with\n",
    "* you should find that it has three arrays: data, tx, and sr (with 'data' a #trials x # timepoints array containing the EEG data, the time of each data acquisition in tx, and the sample rate stored as sr).  "
   ]
  },
  {
   "cell_type": "code",
   "execution_count": 3,
   "metadata": {},
   "outputs": [
    {
     "name": "stdout",
     "output_type": "stream",
     "text": [
      "Shape of the big eeg data set:  (960, 876)\n",
      "Sample rate:  250\n"
     ]
    }
   ],
   "source": [
    "# load the data...\n",
    "eeg = np.load('eeg_data00.npz')\n",
    "\n",
    "# get the different arrays like this...kind of like a structure in matlab. \n",
    "eeg['data']\n",
    "eeg['sr']\n",
    "eeg['tx']\n",
    "\n",
    "# and can query the attributes of the data like this...which will tell us that there 960 trials and 876 timepoints per trial sampled\n",
    "# at 250Hz\n",
    "print('Shape of the big eeg data set: ', eeg['data'].shape)\n",
    "print('Sample rate: ', eeg['sr'])\n",
    "\n",
    "# and if you want to save some typing, especially because we only have a few variables, you reassign the different arrays like this\n",
    "data = eeg['data']\n",
    "sr = eeg['sr']\n",
    "tx = eeg['tx']\n",
    "# now you can just write data instead of eeg['data'] (and can for tx and sr as well...)"
   ]
  },
  {
   "cell_type": "markdown",
   "metadata": {},
   "source": [
    "## Extract the data from time 0 until time 2000\n",
    "* hint: you can use boolean indexing by selecting the columns from the 'data' matrix that meet: (tx>=0)  & (tx<2000)\n",
    "* while you're at it, go ahead and grab the timepoints corresponding to that interval as well"
   ]
  },
  {
   "cell_type": "code",
   "execution_count": 9,
   "metadata": {
    "scrolled": true
   },
   "outputs": [],
   "source": [
    "data_mid = data[:, (tx>=0) & (tx<2000)]\n",
    "tx_mid = tx[(tx>=0) & (tx<2000)]"
   ]
  },
  {
   "cell_type": "markdown",
   "metadata": {},
   "source": [
    "## Then FFT each trial and take a look at the average power across frequencies\n",
    "* FFT each trial \n",
    "* Then compute the amplitude on each trial\n",
    "* Then compute the average amplitude across all trials"
   ]
  },
  {
   "cell_type": "code",
   "execution_count": 40,
   "metadata": {},
   "outputs": [
    {
     "data": {
      "image/png": "[encoded data removed]",
      "text/plain": [
       "<matplotlib.figure.Figure at 0x181b69a198>"
      ]
     },
     "metadata": {},
     "output_type": "display_data"
    }
   ],
   "source": [
    "Data_mid = np.fft.rfft(data_mid, axis=1)\n",
    "Data_mid_abs_corrected = np.abs(Data_mid) / len(tx_mid) * 2\n",
    "Data_mid_abs_corrected_ave = np.mean(Data_mid_abs_corrected, axis=0)\n",
    "\n",
    "dt = 1/sr\n",
    "freqs = np.fft.rfftfreq(len(tx_mid), dt)\n",
    "plt.plot(freqs, Data_mid_abs_corrected_ave)\n",
    "plt.show()"
   ]
  },
  {
   "cell_type": "markdown",
   "metadata": {},
   "source": [
    "## Notice that there are two prominent features in the freq domain representation. Make a lp filter that gets rid of power > 20Hz (you'll know if it worked if you get rid of the spike at 60Hz)\n",
    "* Because our apply_filter function isn't optimized to work on matrices (we could do that, but haven't) you will need to loop and apply filter to each trial"
   ]
  },
  {
   "cell_type": "code",
   "execution_count": 41,
   "metadata": {},
   "outputs": [],
   "source": [
    "fc = 20 / sr\n",
    "b = 10 / sr\n",
    "win = 'blackman'\n",
    "type_filt = 'lp'\n",
    "n, sync_func = msf.define_filt(fc=fc, b=b, window=win, type_filt=type_filt)\n",
    "\n",
    "data_mid_lp = np.zeros(data_mid.shape)\n",
    "for i in range(data_mid.shape[0]):\n",
    "    data_mid_lp[i, :] = msf.apply_filt(input_sig=data_mid[i, :], input_filter=sync_func)"
   ]
  },
  {
   "cell_type": "markdown",
   "metadata": {},
   "source": [
    "## Then FFT it again to see if you got rid of the hf components of the signal"
   ]
  },
  {
   "cell_type": "code",
   "execution_count": 42,
   "metadata": {},
   "outputs": [
    {
     "data": {
      "image/png": "[encoded data removed]",
      "text/plain": [
       "<matplotlib.figure.Figure at 0x181155cd68>"
      ]
     },
     "metadata": {},
     "output_type": "display_data"
    }
   ],
   "source": [
    "Data_mid_lp = np.fft.rfft(data_mid_lp, axis=1)\n",
    "Data_mid_lp_abs_corrected = np.abs(Data_mid_lp) / len(tx_mid) * 2\n",
    "Data_mid_lp_abs_corrected_ave = np.mean(Data_mid_lp_abs_corrected, axis=0)\n",
    "\n",
    "plt.plot(freqs, Data_mid_lp_abs_corrected_ave)\n",
    "plt.show()"
   ]
  },
  {
   "cell_type": "markdown",
   "metadata": {},
   "source": [
    "## Now design a band pass filter that gets rid of everything outside of the 6-14Hz range (where that big bump is...)\n",
    "* To design a band pass filter, make a lp filter (with an appropriate fc), then make a hp filter (with an appropriate fc)\n",
    "* use np.convolve to combine the two filters \n",
    "* then call the apply_filt function\n",
    "* Then you should be left with only those frequencies that pass the lp and the hp filters (i.e. a band pass filter)!"
   ]
  },
  {
   "cell_type": "code",
   "execution_count": 53,
   "metadata": {},
   "outputs": [
    {
     "data": {
      "image/png": "[encoded data removed]",
      "text/plain": [
       "<matplotlib.figure.Figure at 0x1811fe7748>"
      ]
     },
     "metadata": {},
     "output_type": "display_data"
    }
   ],
   "source": [
    "# First the lp filter\n",
    "lp_fc = 14 / sr\n",
    "lp_b = 10 / sr\n",
    "win = 'blackman'\n",
    "n, lp_sync_func = msf.define_filt(fc=lp_fc, b=lp_b, window=win, type_filt='lp')\n",
    "\n",
    "# Then the hp filter\n",
    "hp_fc = 6 / sr\n",
    "hp_b = 3 / sr\n",
    "n, hp_sync_func = msf.define_filt(fc=hp_fc, b=hp_b, window=win, type_filt='hp')\n",
    "\n",
    "bp_sync_func = np.convolve(lp_sync_func, hp_sync_func)\n",
    "\n",
    "data_mid_bp = np.zeros(data_mid.shape)\n",
    "for i in range(data_mid.shape[0]):\n",
    "    data_mid_bp[i, :] = msf.apply_filt(input_sig=data_mid[i, :], input_filter=bp_sync_func)\n",
    "    \n",
    "Data_mid_bp = np.fft.rfft(data_mid_bp, axis=1)\n",
    "Data_mid_bp_abs_corrected = np.abs(Data_mid_bp) / len(tx_mid) * 2\n",
    "Data_mid_bp_abs_corrected_ave = np.mean(Data_mid_bp_abs_corrected, axis=0)\n",
    "\n",
    "plt.plot(freqs, Data_mid_bp_abs_corrected_ave)\n",
    "plt.show()"
   ]
  },
  {
   "cell_type": "code",
   "execution_count": 54,
   "metadata": {},
   "outputs": [
    {
     "data": {
      "image/png": "[encoded data removed]",
      "text/plain": [
       "<matplotlib.figure.Figure at 0x181b86be48>"
      ]
     },
     "metadata": {},
     "output_type": "display_data"
    }
   ],
   "source": [
    "# Just plotting the filter to make sure what it's doing\n",
    "sinc_fft = (np.abs(np.fft.rfft(bp_sync_func)) / len(bp_sync_func) ) * 2\n",
    "freq = np.fft.rfftfreq(bp_sync_func.size, dt)   \n",
    "plt.plot(freq, sinc_fft)\n",
    "plt.show()"
   ]
  },
  {
   "cell_type": "markdown",
   "metadata": {},
   "source": [
    "## You can also make a band-stop filter using a similar logic\n",
    "* Instead of convolving the lp and the hp filters, you can add them together\n",
    "* Use this to selectively get rid of the 60Hz line noise in the data by generated a band-stop filter over 50-70Hz"
   ]
  },
  {
   "cell_type": "code",
   "execution_count": 71,
   "metadata": {},
   "outputs": [
    {
     "data": {
      "image/png": "[encoded data removed]",
      "text/plain": [
       "<matplotlib.figure.Figure at 0x181babc2b0>"
      ]
     },
     "metadata": {},
     "output_type": "display_data"
    }
   ],
   "source": [
    "# First the lp filter\n",
    "lp_fc = 58 / sr\n",
    "lp_b = 3 / sr\n",
    "win = 'blackman'\n",
    "n, lp_sync_func = msf.define_filt(fc=lp_fc, b=lp_b, window=win, type_filt='lp')\n",
    "\n",
    "# Then the hp filter\n",
    "hp_fc = 62 / sr\n",
    "hp_b = 3 / sr\n",
    "n, hp_sync_func = msf.define_filt(fc=hp_fc, b=hp_b, window=win, type_filt='hp')\n",
    "\n",
    "bs_sync_func = lp_sync_func + hp_sync_func\n",
    "\n",
    "data_mid_bs = np.zeros(data_mid.shape)\n",
    "for i in range(data_mid.shape[0]):\n",
    "    data_mid_bs[i, :] = msf.apply_filt(input_sig=data_mid[i, :], input_filter=bs_sync_func)\n",
    "    \n",
    "Data_mid_bs = np.fft.rfft(data_mid_bs, axis=1)\n",
    "Data_mid_bs_abs_corrected = np.abs(Data_mid_bs) / len(tx_mid) * 2\n",
    "Data_mid_bs_abs_corrected_ave = np.mean(Data_mid_bs_abs_corrected, axis=0)\n",
    "\n",
    "plt.plot(freqs, Data_mid_bs_abs_corrected_ave)\n",
    "plt.show()"
   ]
  },
  {
   "cell_type": "markdown",
   "metadata": {},
   "source": [
    "## Then FFT and look at filtered signal in the frequency domain"
   ]
  },
  {
   "cell_type": "code",
   "execution_count": 72,
   "metadata": {},
   "outputs": [
    {
     "data": {
      "image/png": "[encoded data removed]",
      "text/plain": [
       "<matplotlib.figure.Figure at 0x181149e898>"
      ]
     },
     "metadata": {},
     "output_type": "display_data"
    }
   ],
   "source": [
    "# Just plotting the filter to make sure what it's doing\n",
    "sinc_fft = (np.abs(np.fft.rfft(bs_sync_func)) / len(bs_sync_func) ) * 2\n",
    "freq = np.fft.rfftfreq(bs_sync_func.size, dt)   \n",
    "plt.plot(freq, sinc_fft)\n",
    "plt.show()"
   ]
  }
 ],
 "metadata": {
  "kernelspec": {
   "display_name": "Python 3",
   "language": "python",
   "name": "python3"
  },
  "language_info": {
   "codemirror_mode": {
    "name": "ipython",
    "version": 3
   },
   "file_extension": ".py",
   "mimetype": "text/x-python",
   "name": "python",
   "nbconvert_exporter": "python",
   "pygments_lexer": "ipython3",
   "version": "3.6.2"
  }
 },
 "nbformat": 4,
 "nbformat_minor": 2
}
