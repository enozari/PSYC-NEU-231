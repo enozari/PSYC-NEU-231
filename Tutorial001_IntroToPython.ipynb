{
 "cells": [
  {
   "cell_type": "markdown",
   "metadata": {},
   "source": [
    "# Getting started in python-with-jupyter guide\n",
    "-[the official tutorial](https://docs.python.org/3/)\n",
    "\n",
    "-[nice intro to basics of language](https://www.w3schools.com/python/default.asp)"
   ]
  },
  {
   "cell_type": "markdown",
   "metadata": {},
   "source": [
    "## Assign a variable and print it out (much more on different variable types in NumPy tutorials)\n",
    "[obama kills fly](https://www.youtube.com/watch?v=yyQ3ToiimyM)\n",
    "\n",
    "case sensitive\n",
    "no explicit term to initialize variable as in C or other languages (e.g. no \"int x, x=8\" synatax)\n",
    "\n",
    "var names must start with underscore character or a letter - NOT a number\n",
    "\n",
    "can only contain alpha-numeric characters and underscores (A-z, 0-9, and _ )\n"
   ]
  },
  {
   "cell_type": "code",
   "execution_count": 5,
   "metadata": {},
   "outputs": [
    {
     "name": "stdout",
     "output_type": "stream",
     "text": [
      "Obama kills a's \t fly\n",
      "Obama kills another's \t fly\n"
     ]
    }
   ],
   "source": [
    "# define a string...\n",
    "x = 'Obama kills a\\'s \\t fly'\n",
    "print(x)\n",
    " \n",
    "# this is another way to define a string\n",
    "x = \"Obama kills another's \\t fly\"\n",
    "print(x)"
   ]
  },
  {
   "cell_type": "code",
   "execution_count": 7,
   "metadata": {},
   "outputs": [
    {
     "name": "stdout",
     "output_type": "stream",
     "text": [
      "Obama kills another's \t fly 17 times a day\n"
     ]
    }
   ],
   "source": [
    "# declare a numerical variable, can easily combine with strings in print statement...\n",
    "y = 17\n",
    "print(x, y, 'times a day')"
   ]
  },
  {
   "cell_type": "markdown",
   "metadata": {},
   "source": [
    "<div class=\"alert alert-info\">\n",
    "Note that Python is a strongly typed language - some languages will implicitly (automatically) recast variable types (e.g. basic or java). Python allows explcit recasting or reassignment to a variable of a different type, but will not do so automatically except in obvious cases like upcasting\n",
    "</div>"
   ]
  },
  {
   "cell_type": "code",
   "execution_count": 8,
   "metadata": {},
   "outputs": [
    {
     "name": "stdout",
     "output_type": "stream",
     "text": [
      "value of x:  2 type of x:  <class 'int'>\n",
      "value of x:  2 type of x:  <class 'str'>\n"
     ]
    }
   ],
   "source": [
    "# declare x as an int\n",
    "x = 2\n",
    "print('value of x: ', x, 'type of x: ', type(x))\n",
    "\n",
    "# now declare as a string, this is ok...\n",
    "x = '2'\n",
    "print('value of x: ', x,  'type of x: ', type(x))"
   ]
  },
  {
   "cell_type": "code",
   "execution_count": 11,
   "metadata": {},
   "outputs": [
    {
     "name": "stdout",
     "output_type": "stream",
     "text": [
      "type of x:  <class 'float'> type of y:  <class 'int'>\n"
     ]
    },
    {
     "data": {
      "text/plain": [
       "4.0"
      ]
     },
     "execution_count": 11,
     "metadata": {},
     "output_type": "execute_result"
    }
   ],
   "source": [
    "# but you can't do this because you can't combine int and str data types\n",
    "y = 2\n",
    "x = '2'\n",
    "\n",
    "print('type of x: ', type(x), 'type of y: ', type(y))\n",
    "\n",
    "# so this will throw an error, whereas in some other languages it might \n",
    "# either return 4 (e.g. VB if recast to ints) or maybe even 22 (java if recast to strs)\n",
    "x+y  "
   ]
  },
  {
   "cell_type": "markdown",
   "metadata": {},
   "source": [
    "<div class=\"alert alert-warning\">\n",
    "variable assignments often lead to <b>references</b> in Python, not <b>copies</b> as in many languages.\n",
    "This is SUPER important to understand!\n",
    "</div>"
   ]
  },
  {
   "cell_type": "code",
   "execution_count": 13,
   "metadata": {},
   "outputs": [
    {
     "name": "stdout",
     "output_type": "stream",
     "text": [
      "[3, 6]\n",
      "[3, 6]\n"
     ]
    }
   ],
   "source": [
    "# assign a variable - short array in this case\n",
    "x = [1,5]\n",
    "\n",
    "# then make another variable, y, and assign it to x\n",
    "y = x\n",
    "\n",
    "# in most languages this would make a copy of what is in x and then assign that to y\n",
    "# i.e. you would have two separate variables that contain independent copies of the data\n",
    "# but in Python, by default, y is just a reference to x and in turn they reference the same\n",
    "# data in memory.\n",
    "\n",
    "# change the first element in y and see what happens to x!\n",
    "y[0] = 3\n",
    "x[1] = 6\n",
    "\n",
    "print(x)\n",
    "print(y)\n",
    "\n",
    "# we'll talk about 'deep copies' later when we get to NumPy (and fancy indexing/slicing), just keep this in mind for now"
   ]
  },
  {
   "cell_type": "markdown",
   "metadata": {},
   "source": [
    "## Control flow - conditionals and loops to iteratively apply functionality to series of data\n",
    "[if...elif...else conditions](https://www.w3schools.com/python/python_conditions.asp)\n",
    "\n",
    "[while and for loops](https://www.w3schools.com/python/python_while_loops.asp)"
   ]
  },
  {
   "cell_type": "code",
   "execution_count": 14,
   "metadata": {},
   "outputs": [
    {
     "name": "stdout",
     "output_type": "stream",
     "text": [
      "yep, its greater than 10\n"
     ]
    }
   ],
   "source": [
    "# if...elif...else...\n",
    "# note the indentation! this is key as python has no 'begin...end' syntax like the curly braces in C or R  \n",
    "x = 20\n",
    "\n",
    "if type(x) is int:\n",
    "\n",
    "    # then see what x is...\n",
    "    if x > 10:\n",
    "        print(\"yep, its greater than 10\")\n",
    "    elif x == 10:\n",
    "        print('x = 10')\n",
    "    elif 0 <= x < 10:\n",
    "        print(\"x is less than 10, but still >= 0\")\n",
    "    elif x < 0:\n",
    "        print(\"x is negative\")\n",
    "    else: # catch-all\n",
    "        print(\"who knows what x is - maybe imaginary?\")\n"
   ]
  },
  {
   "cell_type": "code",
   "execution_count": null,
   "metadata": {
    "collapsed": true
   },
   "outputs": [],
   "source": [
    "# even better - use nested if...elif...else statements to catch errors \n",
    "x = 20\n",
    "\n",
    "if type(x) is int:\n",
    "\n",
    "    # then see what x is...\n",
    "    if x > 10:\n",
    "        print(\"yep, its greater than 10\")\n",
    "    elif x == 10:\n",
    "        print('x = 10')\n",
    "    elif 0 <= x < 10:\n",
    "        print(\"x is less than 10, but still >= 0\")\n",
    "    elif x < 0:\n",
    "        print(\"x is negative\")\n",
    "    else: # catch-all\n",
    "        print(\"who knows what x is?\")\n",
    "\n",
    "else: # catch all\n",
    "    print(\"that's not even a number you gave me\")\n",
    "    "
   ]
  },
  {
   "cell_type": "code",
   "execution_count": null,
   "metadata": {
    "collapsed": true
   },
   "outputs": [],
   "source": [
    "# if you mess up the indentation, then it will throw an error\n",
    "x = 20\n",
    "\n",
    "# then see what x is...\n",
    "if x > 10:\n",
    "print(\"yep, its greater than 10\")"
   ]
  },
  {
   "cell_type": "markdown",
   "metadata": {},
   "source": [
    "### For loops - iteratively do stuff a fixed number of times "
   ]
  },
  {
   "cell_type": "code",
   "execution_count": 22,
   "metadata": {},
   "outputs": [
    {
     "name": "stdout",
     "output_type": "stream",
     "text": [
      "Iteration:  0 0\n",
      "Iteration:  1 100\n",
      "Iteration:  2 0\n",
      "z\t \n"
     ]
    }
   ],
   "source": [
    "#iterate using a for loop\n",
    "y = [20,10,0]\n",
    "x = [0,10,20]\n",
    "\n",
    "# loop over elements by iterating from 0:len(x)-1 and applying * operation to each \n",
    "# set of elements in x, y. Note that \"range(len(x))\" is iterable (it defines a range, not just a single number)\n",
    "for i in range(len(x)):\n",
    "    print('Iteration: ', i, x[i]*y[i])\n",
    "    \n",
    "z = range(len(x))\n",
    "type(range(len(x)))\n",
    "%who range\n",
    "    "
   ]
  },
  {
   "cell_type": "markdown",
   "metadata": {},
   "source": [
    "For loops can iterate directly over lists. This can be convienient/faster if you do not care about what iteration a loop is on or do not need to go through multiple lists at once. You can skip to the next iteration of a for-loop using the **continue** command."
   ]
  },
  {
   "cell_type": "code",
   "execution_count": 19,
   "metadata": {},
   "outputs": [
    {
     "name": "stdout",
     "output_type": "stream",
     "text": [
      "100\n",
      "400\n"
     ]
    }
   ],
   "source": [
    "# print positive values of x^2\n",
    "for i in x:\n",
    "    if i ==0:\n",
    "        continue\n",
    "    else:\n",
    "        print(i*i)"
   ]
  },
  {
   "cell_type": "markdown",
   "metadata": {},
   "source": [
    "### While loop - keep looping until some condition is met...also illustration of 'break' - make sure that you think carefully before using a 'while' loop...if you don't have a reachable escape condition then it will just sit there and spin forever!"
   ]
  },
  {
   "cell_type": "code",
   "execution_count": 23,
   "metadata": {},
   "outputs": [
    {
     "name": "stdout",
     "output_type": "stream",
     "text": [
      "0.2506790665058688\n",
      "0.17208099793515574\n",
      "0.5976992986333638\n",
      "0.9205388512535138\n",
      "0.4101843976949757\n",
      "0.3225596903558401\n",
      "0.19188906241084513\n",
      "0.7937201071705943\n",
      "0.5041046970891204\n",
      "0.9449746280441887\n",
      "0.4783903287896558\n",
      "0.9187590734649503\n",
      "0.31233304241867665\n",
      "0.9915488014512022\n"
     ]
    }
   ],
   "source": [
    "import random\n",
    "x = random.random()\n",
    "print(x)\n",
    "while x < .99:\n",
    "    x = random.random()\n",
    "    print(x)\n"
   ]
  },
  {
   "cell_type": "markdown",
   "metadata": {},
   "source": [
    "#### break out of a while loop"
   ]
  },
  {
   "cell_type": "code",
   "execution_count": 24,
   "metadata": {},
   "outputs": [
    {
     "name": "stdout",
     "output_type": "stream",
     "text": [
      "0.718285116060644\n",
      "0.9933078561006925\n",
      "0.8368676866041986\n",
      "0.3342204613253118\n",
      "0.09657115310678965\n",
      "0.12255583760916156\n",
      "0.6096241084422911\n",
      "0.19824316434186662\n",
      "0.048500946639804976\n",
      "0.9100348144385428\n",
      "0.8306640215734785\n",
      "0.3711991457430468\n",
      "0.1965207823189714\n",
      "0.18143163342325386\n",
      "0.6062229113534005\n",
      "0.8338258243959543\n",
      "0.34873829565320935\n",
      "0.4226335568001127\n",
      "0.5473756158288943\n",
      "0.5058423429137265\n",
      "0.8452591483168956\n",
      "0.5938749146734961\n",
      "0.4528722515581072\n",
      "0.8577117486549748\n",
      "0.8830745305594482\n",
      "0.8085801706581466\n",
      "0.278449221555635\n",
      "0.8510422724893169\n",
      "0.5556957862222476\n",
      "0.981506255265802\n",
      "0.5499609888666258\n",
      "0.7299557444558619\n",
      "0.8536390851053763\n",
      "0.4781978175543643\n",
      "0.0037835665499036386\n",
      "0.3942703570561137\n",
      "0.09957918361152995\n",
      "0.692129970892227\n",
      "0.4867605617089329\n",
      "0.12695134543662423\n",
      "0.13277377920045008\n",
      "0.7543860408370477\n",
      "0.9859419691169617\n",
      "0.017773651333846896\n",
      "0.6844259917738165\n",
      "0.6758582699236453\n",
      "0.192220409316886\n",
      "0.08288427499830386\n",
      "0.9042829856760468\n",
      "0.630071901523087\n",
      "0.455956326710778\n",
      "0.5707199287097621\n",
      "0.6384566987442017\n",
      "0.657911210598898\n",
      "0.16643517092048177\n",
      "0.9201816235201095\n",
      "0.6796520405944372\n",
      "0.3079196039490254\n",
      "0.41562455121819175\n",
      "0.07290896836252592\n",
      "0.32416195967358263\n",
      "0.6041305247105129\n",
      "0.5764181247862034\n",
      "0.9969202359303464\n",
      "0.8250839510564908\n",
      "0.33986150606962473\n",
      "0.9228583902127602\n",
      "0.5977839694486167\n",
      "0.04232439757361106\n",
      "0.870404383702108\n",
      "x is between .86 and .88\n"
     ]
    }
   ],
   "source": [
    "# break statement\n",
    "x = random.random()\n",
    "\n",
    "# as long as x is less than .9999999 then keep going, UNLESS x is in between .86 and .88, then bail out\n",
    "while x < .99999999:\n",
    "    x = random.random()\n",
    "    print(x)\n",
    "    \n",
    "    if x > .86 and x < .88:\n",
    "        print('x is between .86 and .88')\n",
    "        break\n",
    "        "
   ]
  },
  {
   "cell_type": "markdown",
   "metadata": {},
   "source": [
    "#### A common use of the 'break' statement - infinite loop until condition is met. Expample: having your stimulus presentation software wait for input from hardware (rig, fMRI machine, etc).  "
   ]
  },
  {
   "cell_type": "code",
   "execution_count": 26,
   "metadata": {},
   "outputs": [
    {
     "name": "stdout",
     "output_type": "stream",
     "text": [
      "Start stimulus presentation?[y/n]?\n",
      "d\n",
      "Start stimulus presentation?[y/n]?\n",
      "d\n",
      "Start stimulus presentation?[y/n]?\n",
      "n\n",
      "exiting experiment\n"
     ]
    }
   ],
   "source": [
    "stim_trigger = ''\n",
    "while 1:\n",
    "    print('Start stimulus presentation?[y/n]?')\n",
    "    stim_trigger = input()\n",
    "    if stim_trigger == 'y':\n",
    "        print('starting stimulus')  \n",
    "        break    \n",
    "    elif stim_trigger == 'n':\n",
    "        print('exiting experiment')\n",
    "        break\n",
    "        \n",
    "# alternate form where the 'break' condition is specified in the while statement\n",
    "# stim_trigger = ''\n",
    "# while stim_trigger != 'y':\n",
    "#     print('Start stimulus presentation?[y/n]?')\n",
    "#     stim_trigger = input()\n",
    "        \n",
    "# print('starting stimulus')       "
   ]
  },
  {
   "cell_type": "markdown",
   "metadata": {},
   "source": [
    "## List, tuples, sets and dictionaries\n",
    "\n",
    "Python has a number of data types that you may find useful:\n",
    "\n",
    "Lists are initialized with brackets '[]'\n",
    "\n",
    "Tuples are initialized with parenthesis '()'\n",
    "\n",
    "Dictionaries are initializes with curly brackets '{}'\n",
    "\n",
    "A list is exactly what it sounds like. Each element in a list can be just about anything: a scalar, annother list, annother data type (tuple, dictionary, iterator), or even a function."
   ]
  },
  {
   "cell_type": "code",
   "execution_count": 27,
   "metadata": {},
   "outputs": [
    {
     "name": "stdout",
     "output_type": "stream",
     "text": [
      "[0, 1, 2, 3, 4]\n"
     ]
    }
   ],
   "source": [
    "# define a simple list\n",
    "a_simple_list = [0,1,2,3,4]\n",
    "print(a_simple_list)"
   ]
  },
  {
   "cell_type": "markdown",
   "metadata": {},
   "source": [
    "#### Indexing into lists...basics. will do more with this next time in NumPy. Remember: the element at the start index is included, but the stop index is NOT included...as a result, the number of elements returned is (stop-start). "
   ]
  },
  {
   "cell_type": "markdown",
   "metadata": {},
   "source": [
    "<div class=\"alert alert-info\">\n",
    "Python, like C and many other languages, uses 0-based counting (whereas Matlab uses 1-based counting). \n",
    "\n",
    "\n",
    "![zero based counting](https://imgs.xkcd.com/comics/donald_knuth.png)\n",
    "\n",
    "![schematic](http://serenceslab.ucsd.edu/231_stuff/support_files/index_python.png)\n",
    "\n",
    "Several reasons for this but here are a few intuitions. \n",
    "(1) In our list above, if you wanted to find the value of the first element, how many places do you have to move away from the start? the answer is 0...(2) efficiency - in our list of 5 elements (or more generally N elements), all index values (i) fall between 0 <= i < N. However, if we had 1 based indexing, then all values would fall between 1 <= i < N+1. Small difference, but slightly more overhead.  \n",
    "</div>"
   ]
  },
  {
   "cell_type": "code",
   "execution_count": 28,
   "metadata": {},
   "outputs": [
    {
     "name": "stdout",
     "output_type": "stream",
     "text": [
      "[0, 1, 2, 3, 4]\n",
      "2\n"
     ]
    }
   ],
   "source": [
    "# some examples...remember the 0 thing we just talked about\n",
    "#- items in a list can be accessed by an index and a pair of square brackets\n",
    "print(a_simple_list)\n",
    "print(a_simple_list[2])"
   ]
  },
  {
   "cell_type": "code",
   "execution_count": 29,
   "metadata": {},
   "outputs": [
    {
     "name": "stdout",
     "output_type": "stream",
     "text": [
      "[0, 1, 2, 3, 4, 5]\n"
     ]
    }
   ],
   "source": [
    "#- items can be added to a list by using the append function\n",
    "a_simple_list.append(5)\n",
    "print(a_simple_list)"
   ]
  },
  {
   "cell_type": "code",
   "execution_count": 30,
   "metadata": {},
   "outputs": [
    {
     "name": "stdout",
     "output_type": "stream",
     "text": [
      "[0, 1, 2, 3, 4, 5]\n",
      "[0, 1, 2]\n"
     ]
    }
   ],
   "source": [
    "# To access the first n items in a list:\n",
    "n = 3\n",
    "print(a_simple_list)\n",
    "print(a_simple_list[:n])  # goes up to, but does not incldue, the stop index"
   ]
  },
  {
   "cell_type": "code",
   "execution_count": 31,
   "metadata": {},
   "outputs": [
    {
     "name": "stdout",
     "output_type": "stream",
     "text": [
      "[0, 1, 2, 3, 4, 5]\n",
      "[3, 4, 5]\n"
     ]
    }
   ],
   "source": [
    "# To access the items in a list after n:\n",
    "print(a_simple_list)\n",
    "print(a_simple_list[n:])"
   ]
  },
  {
   "cell_type": "code",
   "execution_count": 32,
   "metadata": {},
   "outputs": [
    {
     "name": "stdout",
     "output_type": "stream",
     "text": [
      "[0, 1, 2, 3, 4, 5]\n",
      "[2, 3]\n"
     ]
    }
   ],
   "source": [
    "# To access a range of values:\n",
    "print(a_simple_list)\n",
    "print(a_simple_list[2:4])"
   ]
  },
  {
   "cell_type": "code",
   "execution_count": 39,
   "metadata": {},
   "outputs": [
    {
     "name": "stdout",
     "output_type": "stream",
     "text": [
      "[0, 1, 2, 3, 4, 5]\n",
      "[2, 3, 4]\n"
     ]
    }
   ],
   "source": [
    "# You can also use negative numbers to work from the back of the list:\n",
    "print(a_simple_list)\n",
    "print(a_simple_list[-4:-1])"
   ]
  },
  {
   "cell_type": "code",
   "execution_count": 36,
   "metadata": {},
   "outputs": [
    {
     "name": "stdout",
     "output_type": "stream",
     "text": [
      "[0, 1, 2, 3, 4, 5]\n",
      "[0, 2, 4]\n"
     ]
    }
   ],
   "source": [
    "# Grab every second item in a list\n",
    "print(a_simple_list)\n",
    "print(a_simple_list[::2])"
   ]
  },
  {
   "cell_type": "code",
   "execution_count": 40,
   "metadata": {},
   "outputs": [
    {
     "name": "stdout",
     "output_type": "stream",
     "text": [
      "[2, 4, 6]\n"
     ]
    }
   ],
   "source": [
    "# Grab every second item starting with the 2nd item and going to the 8th item\n",
    "another_list = [0,1,2,3,4,5,6,7,8,9,10]   # make a longer list...\n",
    "print(another_list[2:8:2])                "
   ]
  },
  {
   "cell_type": "code",
   "execution_count": 47,
   "metadata": {},
   "outputs": [
    {
     "name": "stdout",
     "output_type": "stream",
     "text": [
      "[0, 1, 2]\n",
      "[2, 1, 0]\n"
     ]
    }
   ],
   "source": [
    "# Reverse a list\n",
    "print(a_simple_list)\n",
    "print(a_simple_list[::-1])"
   ]
  },
  {
   "cell_type": "markdown",
   "metadata": {},
   "source": [
    "#### built in methods related to lists"
   ]
  },
  {
   "cell_type": "code",
   "execution_count": 48,
   "metadata": {},
   "outputs": [
    {
     "name": "stdout",
     "output_type": "stream",
     "text": [
      "[7, 5, 4, 1]\n",
      "[1, 4, 5, 7]\n"
     ]
    }
   ],
   "source": [
    "a_list = [7,5,4,1]\n",
    "print(a_list)\n",
    "a_list.sort()\n",
    "print(a_list)"
   ]
  },
  {
   "cell_type": "code",
   "execution_count": 49,
   "metadata": {},
   "outputs": [
    {
     "name": "stdout",
     "output_type": "stream",
     "text": [
      "Pop: 2\n",
      "0 1\n"
     ]
    }
   ],
   "source": [
    "#- pop function - \n",
    "print('Pop: %d' %a_simple_list.pop())\n",
    "print(*a_simple_list)"
   ]
  },
  {
   "cell_type": "code",
   "execution_count": null,
   "metadata": {
    "collapsed": true
   },
   "outputs": [],
   "source": [
    "# to see a full set of methods type a_list. then hit the tab key...\n",
    "a_list."
   ]
  },
  {
   "cell_type": "markdown",
   "metadata": {},
   "source": [
    "#### can also call built in python methods\n",
    "\n",
    "[list of built in methods](https://docs.python.org/3/library/functions.html)"
   ]
  },
  {
   "cell_type": "code",
   "execution_count": null,
   "metadata": {
    "collapsed": true
   },
   "outputs": [],
   "source": [
    "a_list = [7,5,4,1]\n",
    "print('length of this list: ', len(a_list))\n",
    "print('max of this list: ', max(a_list))"
   ]
  },
  {
   "cell_type": "code",
   "execution_count": 43,
   "metadata": {},
   "outputs": [
    {
     "name": "stdout",
     "output_type": "stream",
     "text": [
      "min of this list:  bob\n",
      "max of this list:  cindy\n"
     ]
    }
   ],
   "source": [
    "# note that not all methods work for all types, and in other cases you get kind of cool behavior like this:\n",
    "a_list = ['bob', 'charlie','cindy']\n",
    "print('min of this list: ', min(a_list))\n",
    "print('max of this list: ', max(a_list))"
   ]
  },
  {
   "cell_type": "code",
   "execution_count": null,
   "metadata": {
    "collapsed": true
   },
   "outputs": [],
   "source": []
  },
  {
   "cell_type": "markdown",
   "metadata": {},
   "source": [
    "<div class=\"alert alert-info\">\n",
    "Lists can contain mixed data types - they can even contain FUNCTIONS\n",
    "</div>"
   ]
  },
  {
   "cell_type": "code",
   "execution_count": 56,
   "metadata": {},
   "outputs": [
    {
     "name": "stdout",
     "output_type": "stream",
     "text": [
      "[2018, 'UCSD', [0, 1], range(0, 5), <built-in function sum>, [1, 1, 2, 3, 5, 8, 13, 21]]\n",
      "The next item in the fibonacci sequence is:  34\n"
     ]
    }
   ],
   "source": [
    "a_weird_list = [2018,'UCSD',a_simple_list,range(5),sum,[1,1,2,3,5,8,13,21]]\n",
    "print(a_weird_list)\n",
    "print('The next item in the fibonacci sequence is: %d '%a_weird_list[4](a_weird_list[5][-2:]))\n",
    "\n",
    "# note the indexing of a_weird_list[5][-2:]...5th element of a_weird_list, and last two elements of the list in in the 5th spot..."
   ]
  },
  {
   "cell_type": "markdown",
   "metadata": {},
   "source": [
    "#### using the zip function to make a list of pairs from two separate lists "
   ]
  },
  {
   "cell_type": "code",
   "execution_count": 63,
   "metadata": {},
   "outputs": [
    {
     "name": "stdout",
     "output_type": "stream",
     "text": [
      "[(1, 4), (2, 3), (3, 2), (4, 1)]\n"
     ]
    }
   ],
   "source": [
    "list_a = [1,2,3,4]\n",
    "list_b = [4,3,2,1]\n",
    "x = list(zip(list_a, list_b))\n",
    "print(x)"
   ]
  },
  {
   "cell_type": "markdown",
   "metadata": {},
   "source": [
    "#### now unzip it to recover original lists"
   ]
  },
  {
   "cell_type": "code",
   "execution_count": 67,
   "metadata": {},
   "outputs": [
    {
     "name": "stdout",
     "output_type": "stream",
     "text": [
      "<class 'tuple'>\n",
      "(4, 3, 2, 1)\n"
     ]
    }
   ],
   "source": [
    "list_a, list_b = zip(*x)\n",
    "print(list_a)\n",
    "print(list_b)"
   ]
  },
  {
   "cell_type": "markdown",
   "metadata": {},
   "source": [
    "### Tuples\n",
    "\n",
    "Tuples are collections of things and they are very similar to lists in a lot of ways. The main difference is that they are **immutable** meaning once they are created they cannot be changed... "
   ]
  },
  {
   "cell_type": "code",
   "execution_count": 68,
   "metadata": {},
   "outputs": [
    {
     "name": "stdout",
     "output_type": "stream",
     "text": [
      "(1, 'fish', 2, 'fish')\n",
      "('red', 'fish', 'blue', 'fish')\n"
     ]
    }
   ],
   "source": [
    "a_simple_tuple = (1,'fish',2,'fish')\n",
    "annother_tuple = ('red','fish','blue','fish')\n",
    "print(a_simple_tuple)\n",
    "print(annother_tuple)"
   ]
  },
  {
   "cell_type": "code",
   "execution_count": 69,
   "metadata": {},
   "outputs": [
    {
     "name": "stdout",
     "output_type": "stream",
     "text": [
      "('fish', 2, 'fish', 1)\n",
      "(100,) <class 'tuple'>\n",
      "100 <class 'int'>\n"
     ]
    }
   ],
   "source": [
    "# tuples are indexed the same way as lists\n",
    "print(a_simple_tuple[::-1])\n",
    "\n",
    "# a tuple can be created with only one element by including a trailing comma\n",
    "not_a_tuple = (100)\n",
    "a_short_tuple = (100,)\n",
    "\n",
    "print(a_short_tuple, type(a_short_tuple))\n",
    "print(not_a_tuple, type(not_a_tuple))"
   ]
  },
  {
   "cell_type": "markdown",
   "metadata": {},
   "source": [
    "#### Tuples are immutable! Can't do this..."
   ]
  },
  {
   "cell_type": "code",
   "execution_count": 71,
   "metadata": {},
   "outputs": [
    {
     "ename": "AttributeError",
     "evalue": "'tuple' object has no attribute 'append'",
     "output_type": "error",
     "traceback": [
      "\u001b[0;31m---------------------------------------------------------------------------\u001b[0m",
      "\u001b[0;31mAttributeError\u001b[0m                            Traceback (most recent call last)",
      "\u001b[0;32m<ipython-input-71-b0e1ed874033>\u001b[0m in \u001b[0;36m<module>\u001b[0;34m()\u001b[0m\n\u001b[1;32m      1\u001b[0m \u001b[0;31m# a_simple_tuple[0] = 5\u001b[0m\u001b[0;34m\u001b[0m\u001b[0;34m\u001b[0m\u001b[0m\n\u001b[0;32m----> 2\u001b[0;31m \u001b[0ma_simple_tuple\u001b[0m\u001b[0;34m.\u001b[0m\u001b[0mappend\u001b[0m\u001b[0;34m(\u001b[0m\u001b[0mannother_tuple\u001b[0m\u001b[0;34m)\u001b[0m\u001b[0;34m\u001b[0m\u001b[0m\n\u001b[0m",
      "\u001b[0;31mAttributeError\u001b[0m: 'tuple' object has no attribute 'append'"
     ]
    }
   ],
   "source": [
    "a_simple_tuple[0] = 5\n",
    "a_simple_tuple.append(annother_tuple)"
   ]
  },
  {
   "cell_type": "markdown",
   "metadata": {},
   "source": [
    "<div class=\"alert alert-warning\">\n",
    "But, tuples can still change!\n",
    "If a tuple points to annother variable, and that variable changes, then the tuple \n",
    "value in that location *will* change. Important to be aware of when bug hunting.\n",
    "</div>"
   ]
  },
  {
   "cell_type": "code",
   "execution_count": 74,
   "metadata": {},
   "outputs": [
    {
     "name": "stdout",
     "output_type": "stream",
     "text": [
      "([1, 2, 3], 4)\n",
      "([1, 14, 3], 4)\n"
     ]
    }
   ],
   "source": [
    "a = [1,2,3]  # - list (mutable)\n",
    "c = (a,4)    # - tuple (immutable)\n",
    "print(c)\n",
    "a[1]=14\n",
    "print(c)"
   ]
  },
  {
   "cell_type": "markdown",
   "metadata": {},
   "source": [
    "#### Tuples are *iterable*\n",
    "Tuples (as well as lists) can be iterated over in for loop"
   ]
  },
  {
   "cell_type": "code",
   "execution_count": 77,
   "metadata": {},
   "outputs": [
    {
     "name": "stdout",
     "output_type": "stream",
     "text": [
      "1 is type: <class 'int'>\n",
      "fish is type: <class 'str'>\n",
      "2 is type: <class 'int'>\n",
      "fish is type: <class 'str'>\n"
     ]
    }
   ],
   "source": [
    "for i in a_simple_tuple:\n",
    "    print('%s is type: %s' %(i,type(i)))"
   ]
  },
  {
   "cell_type": "markdown",
   "metadata": {},
   "source": [
    "### Dictionaries\n",
    "Unlike lists & tuples, dictionaries are indexed by 'keys' which mark each entry"
   ]
  },
  {
   "cell_type": "code",
   "execution_count": 81,
   "metadata": {},
   "outputs": [
    {
     "name": "stdout",
     "output_type": "stream",
     "text": [
      "<class 'dict_keys'>\n",
      "School:\t Santa Barbara \tNumber of students:\t 21574\n",
      "School:\t Santa Cruz \tNumber of students:\t 16962\n",
      "School:\t Irvine \tNumber of students:\t 27331\n",
      "School:\t Los Angeles \tNumber of students:\t 30873\n",
      "School:\t Merced \tNumber of students:\t 6815\n",
      "School:\t Riverside \tNumber of students:\t 19799\n",
      "School:\t San Diego \tNumber of students:\t 28127\n",
      "School:\t San Francisco \tNumber of students:\t 0\n",
      "School:\t Berkeley \tNumber of students:\t 29310\n",
      "School:\t Davis \tNumber of students:\t 29379\n"
     ]
    }
   ],
   "source": [
    "UC_Enrollment = {'Santa Barbara':21574,'Santa Cruz':16962,'Irvine': 27331,'Los Angeles':30873,\n",
    "                 'Merced':6815,'Riverside':19799,'San Diego':28127,'San Francisco':0,\n",
    "                 'Berkeley':29310,'Davis':29379}\n",
    "# source: https://www.thoughtco.com/comparison-university-of-california-campuses-786974\n",
    "\n",
    "# the keys command gives a list of all keys (not technically a list but behaves the same way)\n",
    "schools = UC_Enrollment.keys()\n",
    "print(type(schools))\n",
    "\n",
    "# can loop over and print out...\n",
    "for school in schools:\n",
    "    num_students = UC_Enrollment[school]\n",
    "    print('School:\\t', school, '\\tNumber of students:\\t',num_students)"
   ]
  },
  {
   "cell_type": "markdown",
   "metadata": {},
   "source": [
    "#### Can add new entries "
   ]
  },
  {
   "cell_type": "code",
   "execution_count": 82,
   "metadata": {},
   "outputs": [
    {
     "name": "stdout",
     "output_type": "stream",
     "text": [
      "{'Santa Barbara': 21574, 'Santa Cruz': 16962, 'Irvine': 27331, 'Los Angeles': 30873, 'Merced': 6815, 'Riverside': 19799, 'San Diego': 28127, 'San Francisco': 0, 'Berkeley': 29310, 'Davis': 29379, 'UC11': '100000000'}\n"
     ]
    }
   ],
   "source": [
    "UC_Enrollment[\"UC11\"] = \"100000000\"\n",
    "print(UC_Enrollment)"
   ]
  },
  {
   "cell_type": "markdown",
   "metadata": {},
   "source": [
    "#### And delete entries"
   ]
  },
  {
   "cell_type": "code",
   "execution_count": 83,
   "metadata": {},
   "outputs": [
    {
     "name": "stdout",
     "output_type": "stream",
     "text": [
      "{'Santa Barbara': 21574, 'Santa Cruz': 16962, 'Irvine': 27331, 'Los Angeles': 30873, 'Merced': 6815, 'Riverside': 19799, 'San Diego': 28127, 'San Francisco': 0, 'Berkeley': 29310, 'Davis': 29379}\n"
     ]
    }
   ],
   "source": [
    "del UC_Enrollment[\"UC11\"]\n",
    "print(UC_Enrollment)\n",
    "#del UC_Enrollment  # delete the entire dictionary\n",
    "# UC_Enrollment.clear() # clear out all entries"
   ]
  },
  {
   "cell_type": "markdown",
   "metadata": {},
   "source": [
    "#### Dictionaries are also directly iterable (both keys and indexed values)"
   ]
  },
  {
   "cell_type": "code",
   "execution_count": 84,
   "metadata": {},
   "outputs": [
    {
     "name": "stdout",
     "output_type": "stream",
     "text": [
      "21574\n",
      "16962\n",
      "27331\n",
      "30873\n",
      "6815\n",
      "19799\n",
      "28127\n",
      "0\n",
      "29310\n",
      "29379\n"
     ]
    }
   ],
   "source": [
    "for x in UC_Enrollment.values():\n",
    "    print(x)"
   ]
  },
  {
   "cell_type": "code",
   "execution_count": 87,
   "metadata": {},
   "outputs": [
    {
     "name": "stdout",
     "output_type": "stream",
     "text": [
      "Santa Barbara 21574\n",
      "Santa Cruz 16962\n",
      "Irvine 27331\n",
      "Los Angeles 30873\n",
      "Merced 6815\n",
      "Riverside 19799\n",
      "San Diego 28127\n",
      "San Francisco 0\n",
      "Berkeley 29310\n",
      "Davis 29379\n"
     ]
    }
   ],
   "source": [
    "for x, y in UC_Enrollment.items():\n",
    "    print(x, y)"
   ]
  },
  {
   "cell_type": "markdown",
   "metadata": {},
   "source": [
    "### Sets are collections of unique elements - like a dictionary but keys"
   ]
  },
  {
   "cell_type": "code",
   "execution_count": 88,
   "metadata": {},
   "outputs": [
    {
     "name": "stdout",
     "output_type": "stream",
     "text": [
      "{1, 2, 3}\n"
     ]
    }
   ],
   "source": [
    "x = {1,2,3}  # x = set([1,2,3])\n",
    "print(x)"
   ]
  },
  {
   "cell_type": "code",
   "execution_count": 89,
   "metadata": {},
   "outputs": [
    {
     "name": "stdout",
     "output_type": "stream",
     "text": [
      "{1, 2, 3, 4, 5}\n"
     ]
    }
   ],
   "source": [
    "x = {1,1,1,2,3,4,5}  # only unique elements!\n",
    "print(x)"
   ]
  },
  {
   "cell_type": "markdown",
   "metadata": {},
   "source": [
    "#### sets support mathmatical 'set' operations like union, intersection, difference, etc"
   ]
  },
  {
   "cell_type": "code",
   "execution_count": 90,
   "metadata": {},
   "outputs": [
    {
     "data": {
      "text/plain": [
       "{1, 2, 3, 4, 5, 6}"
      ]
     },
     "execution_count": 90,
     "metadata": {},
     "output_type": "execute_result"
    }
   ],
   "source": [
    "x = {1,2,3,4}\n",
    "y = {3,4,5,6}\n",
    "x.union(y)"
   ]
  },
  {
   "cell_type": "code",
   "execution_count": 91,
   "metadata": {},
   "outputs": [
    {
     "data": {
      "text/plain": [
       "{3, 4}"
      ]
     },
     "execution_count": 91,
     "metadata": {},
     "output_type": "execute_result"
    }
   ],
   "source": [
    "x.intersection(y)"
   ]
  },
  {
   "cell_type": "markdown",
   "metadata": {},
   "source": [
    "## Python functions - declare your own functions so that you can easily use algorithms that you need over and over."
   ]
  },
  {
   "cell_type": "code",
   "execution_count": 92,
   "metadata": {
    "collapsed": true
   },
   "outputs": [],
   "source": [
    "def check_input_value(x):\n",
    "    \n",
    "    if x > 0:\n",
    "        x = x + 10\n",
    "        print('adding 10 to input, new number is:', x)\n",
    "    elif x < 0:\n",
    "        x = x - 10\n",
    "        print('subtracting 10 from input, new number is:', x)\n",
    "    else:\n",
    "        x = NaN\n",
    "        print('enter a number')\n",
    "        \n",
    "    return x"
   ]
  },
  {
   "cell_type": "code",
   "execution_count": 93,
   "metadata": {},
   "outputs": [
    {
     "name": "stdout",
     "output_type": "stream",
     "text": [
      "adding 10 to input, new number is: 20\n",
      "20\n"
     ]
    }
   ],
   "source": [
    "# now call the function and pass in a number\n",
    "y = check_input_value(10)\n",
    "print(y)"
   ]
  },
  {
   "cell_type": "markdown",
   "metadata": {},
   "source": [
    "### write the function out to a .py file for repeated using the writefile cell magic command (note the %% for cell magics as opposed to % for line magics)"
   ]
  },
  {
   "cell_type": "code",
   "execution_count": 94,
   "metadata": {},
   "outputs": [
    {
     "name": "stdout",
     "output_type": "stream",
     "text": [
      "Writing check_input_value.py\n"
     ]
    }
   ],
   "source": [
    "%%writefile check_input_value.py\n",
    "\n",
    "def check_input_value(x):\n",
    "    \n",
    "    if x > 0:\n",
    "        x = x + 10\n",
    "        print('adding 10 to input, new number is:', x)\n",
    "    elif x < 0:\n",
    "        x = x - 10\n",
    "        print('subtracting 10 from input, new number is:', x)\n",
    "    else:\n",
    "        x = NaN\n",
    "        print('enter a number')\n",
    "        \n",
    "    return x"
   ]
  },
  {
   "cell_type": "markdown",
   "metadata": {},
   "source": [
    "### write out a .py file that has multiple functions in it, then you can call it as a module"
   ]
  },
  {
   "cell_type": "code",
   "execution_count": 95,
   "metadata": {},
   "outputs": [
    {
     "name": "stdout",
     "output_type": "stream",
     "text": [
      "Writing some_random_tools.py\n"
     ]
    }
   ],
   "source": [
    "%%writefile some_random_tools.py\n",
    "\n",
    "def square(x):\n",
    "    y = x * x # or x**2\n",
    "    return y\n",
    "\n",
    "def times_ten(x):\n",
    "    y = x * 10\n",
    "    return(y)\n",
    "\n",
    "def cubed(x):\n",
    "    y = x * x * x\n",
    "    return(y)"
   ]
  },
  {
   "cell_type": "markdown",
   "metadata": {},
   "source": [
    "### now import your new module and access the functionality. "
   ]
  },
  {
   "cell_type": "code",
   "execution_count": 96,
   "metadata": {},
   "outputs": [
    {
     "name": "stdout",
     "output_type": "stream",
     "text": [
      "25\n",
      "50\n",
      "125\n"
     ]
    }
   ],
   "source": [
    "import some_random_tools as srt\n",
    "\n",
    "x = 5\n",
    "\n",
    "print(srt.square(x))\n",
    "\n",
    "print(srt.times_ten(x))\n",
    "\n",
    "print(srt.cubed(x))\n"
   ]
  },
  {
   "cell_type": "markdown",
   "metadata": {},
   "source": [
    "### handy way to keep track of values passed to a function"
   ]
  },
  {
   "cell_type": "code",
   "execution_count": 97,
   "metadata": {
    "collapsed": true
   },
   "outputs": [],
   "source": [
    "def minus_two_numbers(x,y):\n",
    "    z = x - y \n",
    "    return z"
   ]
  },
  {
   "cell_type": "code",
   "execution_count": 98,
   "metadata": {},
   "outputs": [
    {
     "data": {
      "text/plain": [
       "5"
      ]
     },
     "execution_count": 98,
     "metadata": {},
     "output_type": "execute_result"
    }
   ],
   "source": [
    "minus_two_numbers(x=10, y=5)"
   ]
  },
  {
   "cell_type": "markdown",
   "metadata": {},
   "source": [
    "### BUT you can also do this to gain flexibility if you remember in the input requires but you forget what order"
   ]
  },
  {
   "cell_type": "code",
   "execution_count": 99,
   "metadata": {},
   "outputs": [
    {
     "data": {
      "text/plain": [
       "5"
      ]
     },
     "execution_count": 99,
     "metadata": {},
     "output_type": "execute_result"
    }
   ],
   "source": [
    "minus_two_numbers(y=5, x=10)  # still get the right answer by explicitly declaring input vars by name"
   ]
  },
  {
   "cell_type": "markdown",
   "metadata": {},
   "source": [
    "<div class=\"alert alert-info\">\n",
    "If a variable is defined within a function, like 'z' above, then it is in the local namespace - it is created when the function is called and then destroyed after the function returns. Variables created outside of functions are in the global namespace and can be accessed from any cell in the notebook. \n",
    "</div>"
   ]
  }
 ],
 "metadata": {
  "kernelspec": {
   "display_name": "Python 3",
   "language": "python",
   "name": "python3"
  },
  "language_info": {
   "codemirror_mode": {
    "name": "ipython",
    "version": 3
   },
   "file_extension": ".py",
   "mimetype": "text/x-python",
   "name": "python",
   "nbconvert_exporter": "python",
   "pygments_lexer": "ipython3",
   "version": "3.6.2"
  }
 },
 "nbformat": 4,
 "nbformat_minor": 2
}
